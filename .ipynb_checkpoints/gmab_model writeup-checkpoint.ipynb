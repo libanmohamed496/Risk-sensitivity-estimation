{
 "cells": [
  {
   "cell_type": "markdown",
   "metadata": {},
   "source": [
    "## The gmab_model\n",
    "\n",
    "The gmab_model is a python module intended to provide easy-to-use access to tools for the simulation and analysis of guaranteed minimum account benefit (GMAB) variable annuities (VA)."
   ]
  },
  {
   "cell_type": "code",
   "execution_count": 23,
   "metadata": {},
   "outputs": [],
   "source": [
    "import math\n",
    "import numpy as np\n",
    "import scipy as sp\n",
    "\n",
    "import itertools as it\n",
    "import functools as ft\n",
    "import operator as op\n",
    "\n",
    "import matplotlib.pyplot as plt\n",
    "import seaborn as sns\n",
    "\n",
    "import gmab_model\n",
    "from gmab_model import set_world, make_future_gen\n",
    "from gmab_model import vec_rollforward, vec_GMAB, vec_GMAB_ratchet\n",
    "from gmab_model import make_portfolio\n",
    "from gmab_model import delta, rho\n",
    "from gmab_model import value_by_rep, value_by_error, value_by_precision\n",
    "from gmab_model import shock_value, write_shock_data, read_shock_data, organize_data\n",
    "\n",
    "# model params\n",
    "t_now = 0\n",
    "t_max = 10 # t in years\n",
    "dt = 1/252\n",
    "r = .03 * np.ones(int(t_max/dt))\n",
    "\n",
    "# equity params\n",
    "sig2 = .18**2\n",
    "eZ = None\n",
    "S0 = 1\n",
    "S = None\n",
    "\n",
    "# account params\n",
    "t_begin = 0\n",
    "t_end = t_max\n",
    "A_now = 100000\n",
    "A = A_now * np.ones(int(t_max/dt) + 1)\n",
    "cr = .01  # crediting rate\n",
    "ec = .02  # expense ratio\n",
    "rc = .025  # rider charge"
   ]
  },
  {
   "cell_type": "markdown",
   "metadata": {},
   "source": [
    "### Concepts and notation\n",
    "A _contract_ is a method for determining payout by the insurance company to holders of the contract. Each contract has start date and end date, associated charges, accumulation guarantee. Collectively, these parameters are referred to as the _contract arguments,_ as they're passed to functions that compute the liability associated to the contract. The gmab_model convention is to pack these into a tuple:"
   ]
  },
  {
   "cell_type": "code",
   "execution_count": 4,
   "metadata": {},
   "outputs": [],
   "source": [
    "contract_args = t_begin, t_end, A, ec, rc, cr"
   ]
  },
  {
   "cell_type": "markdown",
   "metadata": {},
   "source": [
    "where:\n",
    "* t_begin is the beginning time of the contract (in years since the start date for the simulation)\n",
    "* t_end is the time the contract comes to maturity (ditto years)\n",
    "* A is a numpy array that stores the value of the account at day in the simulation\n",
    "* ec is the expense charge expressed as an APR (1=100%)\n",
    "* rc is the rider charge expressesd as an APR and\n",
    "* cr is the rate at which the basic benefit guarantee increases as an APR.\n",
    "\n",
    "The value of a contract also depends on the external _world_ (hence the V in VA), which includes the current time, risk free interest rate, price of the underlying equity, etc. These are also packed into a tuple:\n"
   ]
  },
  {
   "cell_type": "code",
   "execution_count": 5,
   "metadata": {},
   "outputs": [],
   "source": [
    "world = t_now, t_max, dt, r, sig2, eZ, S0, S"
   ]
  },
  {
   "cell_type": "markdown",
   "metadata": {},
   "source": [
    "where:\n",
    "* t_now is the current time\n",
    "* t_max is the time of the last day in the simulation\n",
    "* dt is the size of a timestep relative to the length of a year (1/252)\n",
    "* r is a numpy array containing the risk-free interest rate as an APR for each day in the simulation\n",
    "* sig2 is the squared volatility of the equity underlying the account\n",
    "* eZ is a list of daily moves of the equity (S(t+dt) = S(t) eZ(t))\n",
    "* S0 is the starting price for the equity and\n",
    "* S is a numpy array containing the equity price per share.\n",
    "\n",
    "Conceptually, there is a difference between the first four and the last four, and there will be a need to distinguish between them if this model is extended to multiple equities.\n",
    "\n",
    "We will refer to the expected value of the contract, from the perspective of the insurance company, at time t_now, by $V$; the current value of the underlying equity by $S$; and the current risk-free interest rate by $r$."
   ]
  },
  {
   "cell_type": "markdown",
   "metadata": {},
   "source": [
    "### Contract types"
   ]
  },
  {
   "cell_type": "markdown",
   "metadata": {},
   "source": [
    "#### GMAB without ratchet\n",
    "\n",
    "The gmab_model contains implementations of two types of contracts: GMABs with and without the ratchet feature. The payout for a GMAB contract without the ratchet feature is given by\n",
    "$${\\rm max}(A(t_{begin})*(1+cr*dt)^{(t_{end}-t_{begin})dt} - A(t_{end}), 0)$$\n",
    "\n",
    "as a picture:"
   ]
  },
  {
   "cell_type": "code",
   "execution_count": 52,
   "metadata": {},
   "outputs": [
    {
     "data": {
      "image/png": "[encoded data removed]",
      "text/plain": [
       "<Figure size 432x288 with 1 Axes>"
      ]
     },
     "metadata": {
      "needs_background": "light"
     },
     "output_type": "display_data"
    }
   ],
   "source": [
    "world = t_now, t_max, dt, r, sig2, eZ, S0, S\n",
    "contract_args = t_begin, t_end, A, .02, .018, cr\n",
    "fig, ax = plt.subplots()\n",
    "A_t = vec_GMAB(world, *contract_args)[1]\n",
    "BB = np.zeros(A_t.shape)\n",
    "for t in range(len(BB)):\n",
    "    BB[t] = A_t[0] * (1 + cr)**(t*dt)\n",
    "plt.plot(A_t)\n",
    "plt.plot(BB)\n",
    "plt.fill_between(range(len(BB)), BB, A_t, where=BB > A_t, facecolor = 'red', alpha = .1)\n",
    "plt.show()"
   ]
  },
  {
   "cell_type": "markdown",
   "metadata": {},
   "source": [
    "The value of such a result, when viewed from the perspective of the insurance company at time t_now, is\n",
    "$$V = (1+r*dt)^{-(t_{end}-t_{now})/dt} * {\\rm min}(A(t_{end}) - A(t_{begin})*(1+cr*dt)^{(t_{end}-t_{begin})dt}, 0)$$\n",
    "\n",
    "To compute this quantity for a specific, known trajectory for eZ/S, use the following set of commands:"
   ]
  },
  {
   "cell_type": "code",
   "execution_count": 56,
   "metadata": {},
   "outputs": [
    {
     "data": {
      "text/plain": [
       "(30558.169292134207,\n",
       " array([100000.        , 100853.21737131, 101352.37050437, ...,\n",
       "        101922.70385676, 102717.13334137, 101802.78702638]),\n",
       " 0.7408314486468771)"
      ]
     },
     "execution_count": 56,
     "metadata": {},
     "output_type": "execute_result"
    }
   ],
   "source": [
    "world = t_now, t_max, dt, r, sig2, eZ, S0, S\n",
    "contract_args = t_begin, t_end, A, .02, .018, cr\n",
    "vec_GMAB(world, *contract_args)"
   ]
  },
  {
   "cell_type": "markdown",
   "metadata": {},
   "source": [
    "The output is a 3-tuple. The first entry is the present value of the result for the insurance company. The second and third entris are the account value as a function of time and the present value of a dollar at the end of the simulation, returned largely for internal reasons.\n",
    "To compute this quantity for a completely unspecified trajectory for eZ/S, with performance both before and after t_now unknown, simply change eZ and S to None:"
   ]
  },
  {
   "cell_type": "code",
   "execution_count": 53,
   "metadata": {},
   "outputs": [
    {
     "data": {
      "text/plain": [
       "(34931.63325870067,\n",
       " array([100000.        , 101532.82724342, 101192.73602806, ...,\n",
       "        114394.33456017, 112694.2857772 , 114399.12002129]),\n",
       " 0.7408314486468771)"
      ]
     },
     "execution_count": 53,
     "metadata": {},
     "output_type": "execute_result"
    }
   ],
   "source": [
    "world = t_now, t_max, dt, r, sig2, None, S0, None\n",
    "contract_args = t_begin, t_end, A, ec, rc, cr\n",
    "vec_GMAB(world, *contract_args)"
   ]
  },
  {
   "cell_type": "markdown",
   "metadata": {},
   "source": [
    "To compute this quantity for a trajectory of eZ/S that coincides with a known past trajectory but with a random future, call make_future_gen(), which returns a generator of worlds with random future equity trajectories:"
   ]
  },
  {
   "cell_type": "code",
   "execution_count": 55,
   "metadata": {},
   "outputs": [
    {
     "data": {
      "text/plain": [
       "(26708.343407794822,\n",
       " array([100000.        ,  99775.58413123, 101239.10267661, ...,\n",
       "         99373.43590175, 100547.73798403,  99529.17927386]),\n",
       " 0.7408314486468771)"
      ]
     },
     "execution_count": 55,
     "metadata": {},
     "output_type": "execute_result"
    }
   ],
   "source": [
    "world = t_now, t_max, dt, r, sig2, eZ, S0, S\n",
    "fut_world_gen = make_future_gen(world)\n",
    "fut_world = next(fut_world_gen)\n",
    "contract_args = t_begin, t_end, A, .02g, .018, cr\n",
    "vec_GMAB(fut_world, *contract_args)"
   ]
  },
  {
   "cell_type": "markdown",
   "metadata": {},
   "source": [
    "#### GMAB with ratchet\n",
    "\n",
    "The other contract type is a GMAB with ratchet. The payout for such a contract, in this implementation, is given by the maximum of the payout from a GMAB without ratchet and\n",
    "$${\\rm max}_{t\\in \\mathbb Z} A(t) - A(t_{end})$$\n",
    "which is to say, the largest value the account takes at each of its anniversaries.\n",
    "\n",
    "As a picture, ignoring the accumulation effect shard with GMAB without ratchet:"
   ]
  },
  {
   "cell_type": "code",
   "execution_count": 51,
   "metadata": {},
   "outputs": [
    {
     "data": {
      "image/png": "[encoded data removed]",
      "text/plain": [
       "<Figure size 432x288 with 1 Axes>"
      ]
     },
     "metadata": {
      "needs_background": "light"
     },
     "output_type": "display_data"
    }
   ],
   "source": [
    "world = t_now, t_max, dt, r, sig2, eZ, S0, S\n",
    "contract_args = t_begin, t_end, A, ec, rc, cr\n",
    "fig, ax = plt.subplots()\n",
    "A_t = vec_GMAB_ratchet(world, *contract_args)[1]\n",
    "BB = A_t[0]*np.ones(A_t.shape)\n",
    "for t in range(int(1/dt),len(BB)):\n",
    "    BB[t] = max(A_t[slice(0,int(int(t*dt)/dt)+1,int(1/dt))])\n",
    "plt.plot(A_t)\n",
    "plt.plot(BB)\n",
    "plt.fill_between(range(len(BB)), BB, A_t, where=BB > A_t, facecolor = 'red', alpha = .1)\n",
    "plt.show()"
   ]
  },
  {
   "cell_type": "markdown",
   "metadata": {},
   "source": [
    "The value of such a result is computed similarly to the corresponding equation for GMAB without ratchet."
   ]
  },
  {
   "cell_type": "markdown",
   "metadata": {},
   "source": [
    "### Greeks\n",
    "This project only considered two Greeks, $\\tilde\\Delta$ and $\\rho$."
   ]
  },
  {
   "cell_type": "markdown",
   "metadata": {},
   "source": [
    "#### $\\Delta$\n",
    "\n",
    "$\\Delta$ is normally defined as the derivative of $V$ with respect to $S$. In this project, we considered what I will denote $\\tilde\\Delta$, which is the change in $V$ with respect to percent changes in $S$:\n",
    "\n",
    "$$\\tilde\\Delta = \\lim_{h\\to 0}\\frac{V(S + Sh/2)-V(S - Sh/2)}{h} = S\\lim_{h\\to 0}\\frac{V(S + hS/2)-V(S - Sh/2)}{hS} = S\\Delta$$\n",
    "\n",
    "where we suppress dependence of $V$ on $r$. In order to recover $\\Delta$ from $\\tilde\\Delta$, simply divide by $S$. gmab_model approximates $\\tilde\\Delta$ by accepting a secant size parameter, $h$ in the above equation. In order to compute $\\tilde\\Delta$, feed a world state, $h$ and a contract to delta():"
   ]
  },
  {
   "cell_type": "code",
   "execution_count": 62,
   "metadata": {},
   "outputs": [
    {
     "data": {
      "text/plain": [
       "(19234.8985336248, None, None)"
      ]
     },
     "execution_count": 62,
     "metadata": {},
     "output_type": "execute_result"
    }
   ],
   "source": [
    "world = t_now, t_max, dt, r, sig2, eZ, S0, S\n",
    "contract_args = t_begin, t_end, A, ec, rc, cr\n",
    "delta(world, .001, vec_GMAB_ratchet, *contract_args)"
   ]
  },
  {
   "cell_type": "markdown",
   "metadata": {},
   "source": [
    "What's returned by this function is a 3-tuple whose first entry contains the local, linear, additional expected value of a 100% change in S.\n",
    "\n",
    "Above remarks about setting the world state/equity trajectory apply here as well. Specify eZ and S if $\\tilde\\Delta$ is to be computed for a specific trajectory; pass None and None if you want to sample from all possible worlds; pass worlds generated by make_future_gen() if the past is fixed and the future random."
   ]
  },
  {
   "cell_type": "markdown",
   "metadata": {},
   "source": [
    "#### $\\rho$\n",
    "$\\rho$ is defined as: $$\\rho = \\lim_{h\\to 0}\\frac{V(r+h/2) - V(r-h/2)}{h}$$ where we suppress dependence of $V$ on $S$. In order to compute this using the gmab_model, simply call the rho() function as you would delta():"
   ]
  },
  {
   "cell_type": "code",
   "execution_count": 63,
   "metadata": {},
   "outputs": [
    {
     "data": {
      "text/plain": [
       "(591483.2088724287, None, None)"
      ]
     },
     "execution_count": 63,
     "metadata": {},
     "output_type": "execute_result"
    }
   ],
   "source": [
    "world = t_now, t_max, dt, r, sig2, eZ, S0, S\n",
    "contract_args = t_begin, t_end, A, ec, rc, cr\n",
    "rho(world, .001, vec_GMAB_ratchet, *contract_args)"
   ]
  },
  {
   "cell_type": "markdown",
   "metadata": {},
   "source": [
    "the output follows the same format as with delta(). This is the (linear) expected value of a change in r by 100% APR."
   ]
  },
  {
   "cell_type": "markdown",
   "metadata": {},
   "source": [
    "### Value estimation\n",
    "Some utility functions are provided to assist in estimating values of contracts and Greeks. First, by specified number of repetitions; here we specify that we want to perform 100 repetitions:"
   ]
  },
  {
   "cell_type": "code",
   "execution_count": 65,
   "metadata": {},
   "outputs": [
    {
     "data": {
      "text/plain": [
       "(3781.8788002880397, 2445.790472661467, 100)"
      ]
     },
     "execution_count": 65,
     "metadata": {},
     "output_type": "execute_result"
    }
   ],
   "source": [
    "world = t_now, t_max, dt, r, sig2, eZ, S0, S\n",
    "contract_args = t_begin, t_end, A, ec, rc, cr\n",
    "value_by_rep(world, 100, vec_GMAB_ratchet, *contract_args)"
   ]
  },
  {
   "cell_type": "markdown",
   "metadata": {},
   "source": [
    "the output is a 3-tuple. The first entry is the sample mean. The second entry is the sample standard deviation. The third entry is the sample size. We can also pass delta() to this function:"
   ]
  },
  {
   "cell_type": "code",
   "execution_count": 79,
   "metadata": {},
   "outputs": [
    {
     "data": {
      "text/plain": [
       "(38277.49111954585, 3897.8662229589618, 100)"
      ]
     },
     "execution_count": 79,
     "metadata": {},
     "output_type": "execute_result"
    }
   ],
   "source": [
    "world = t_now, t_max, dt, r, sig2, eZ, S0, S\n",
    "contract_args = t_begin, t_end, A, ec, rc, cr\n",
    "value_by_rep(world, 100, delta, .001, vec_GMAB_ratchet, *contract_args)"
   ]
  },
  {
   "cell_type": "markdown",
   "metadata": {},
   "source": [
    "or rho():"
   ]
  },
  {
   "cell_type": "code",
   "execution_count": 71,
   "metadata": {},
   "outputs": [
    {
     "data": {
      "text/plain": [
       "(1237396.167034605, 57304.346607206564, 100)"
      ]
     },
     "execution_count": 71,
     "metadata": {},
     "output_type": "execute_result"
    }
   ],
   "source": [
    "world = t_now, t_max, dt, r, sig2, eZ, S0, S\n",
    "contract_args = t_begin, t_end, A, ec, rc, cr\n",
    "value_by_rep(world, 100, rho, .001, vec_GMAB_ratchet, *contract_args)"
   ]
  },
  {
   "cell_type": "markdown",
   "metadata": {},
   "source": [
    "or higher-order derivatives (of arbitrarily large degree):"
   ]
  },
  {
   "cell_type": "code",
   "execution_count": 72,
   "metadata": {},
   "outputs": [
    {
     "data": {
      "text/plain": [
       "(472330975.28476715, 509001108.83294755, 100)"
      ]
     },
     "execution_count": 72,
     "metadata": {},
     "output_type": "execute_result"
    }
   ],
   "source": [
    "world = t_now, t_max, dt, r, sig2, eZ, S0, S\n",
    "contract_args = t_begin, t_end, A, ec, rc, cr\n",
    "value_by_rep(world, 100, rho, .001, rho, .001, delta, .001, vec_GMAB_ratchet, *contract_args)"
   ]
  },
  {
   "cell_type": "markdown",
   "metadata": {},
   "source": [
    "Another function allows us to sample until the standard deviation is below a certain level. Here we compute delta() to within 500:"
   ]
  },
  {
   "cell_type": "code",
   "execution_count": 75,
   "metadata": {},
   "outputs": [
    {
     "name": "stdout",
     "output_type": "stream",
     "text": [
      "estimated 5057 more to go\n"
     ]
    },
    {
     "data": {
      "text/plain": [
       "(35523.23218209271, 475.30670084446746, 6057)"
      ]
     },
     "execution_count": 75,
     "metadata": {},
     "output_type": "execute_result"
    }
   ],
   "source": [
    "world = t_now, t_max, dt, r, sig2, eZ, S0, S\n",
    "contract_args = t_begin, t_end, A, ec, rc, cr\n",
    "value_by_error(world, 500, delta, .001, vec_GMAB_ratchet, *contract_args)"
   ]
  },
  {
   "cell_type": "markdown",
   "metadata": {},
   "source": [
    "value_by_error() can also take contracts, higher-order derivatives, etc. Finally, there is value_by_precision(). An example:"
   ]
  },
  {
   "cell_type": "code",
   "execution_count": 78,
   "metadata": {},
   "outputs": [
    {
     "name": "stdout",
     "output_type": "stream",
     "text": [
      "estimated 30862 more to go\n"
     ]
    },
    {
     "data": {
      "text/plain": [
       "(36286.18780727742, 205.87189246700498, 31862)"
      ]
     },
     "execution_count": 78,
     "metadata": {},
     "output_type": "execute_result"
    }
   ],
   "source": [
    "world = t_now, t_max, dt, r, sig2, eZ, S0, S\n",
    "contract_args = t_begin, t_end, A, ec, rc, cr\n",
    "value_by_precision(world, .9, .01, delta, .001, vec_GMAB_ratchet, *contract_args)"
   ]
  },
  {
   "cell_type": "markdown",
   "metadata": {},
   "source": [
    "In this case, delta() was sampled until the 90% confidence interval for its mean was within 1% of the estimated mean. As with the other value functions, value_by_precision() can take either contract type and arbitrary derivatives of $V$."
   ]
  },
  {
   "cell_type": "markdown",
   "metadata": {},
   "source": [
    "### Computing Greeks for intraday moves"
   ]
  },
  {
   "cell_type": "markdown",
   "metadata": {},
   "source": [
    "The main purpose of this project was to investigate the dependence of Greeks on intra-day moves in $S$ and $r$. In order to sample quantities at shocked values of $S$ and $r$, pass a list of shocks to the function shock_value(). Shocks are recorded as percent changes in $S$ and changes in $r$, so the following block of code computes $\\tilde\\Delta$ at the following points: $$(S, r) \\in \\{(S_0 + 0, r_0 + 0), (S_0 + .01S, r_0 + 0), (S_0 + 0, r_0 + 10bp), (S_0 + .1S, r + 10bp)\\}$$"
   ]
  },
  {
   "cell_type": "code",
   "execution_count": 81,
   "metadata": {},
   "outputs": [
    {
     "name": "stdout",
     "output_type": "stream",
     "text": [
      "1 shocks done\n",
      "2 shocks done\n",
      "3 shocks done\n",
      "4 shocks done\n"
     ]
    },
    {
     "data": {
      "text/plain": [
       "[((0, 0), 'delta_', (37307.55276344931, 1165.3553187129598, 1000)),\n",
       " ((0.01, 0), 'delta_', (37619.08189646807, 1176.5305036506898, 1000)),\n",
       " ((0, 0.001), 'delta_', (35276.90200801575, 1134.7005685392235, 1000)),\n",
       " ((0.01, 0.001), 'delta_', (35863.61491385515, 1154.782213324865, 1000))]"
      ]
     },
     "execution_count": 81,
     "metadata": {},
     "output_type": "execute_result"
    }
   ],
   "source": [
    "world = t_now, t_max, dt, r, sig2, eZ, S0, S\n",
    "contract_args = t_begin, t_end, A, ec, rc, cr\n",
    "shocks = [(0,0), (.01,0), (0, .001), (.01, .001)]\n",
    "shock_value(world, shocks, value_by_rep, 1000, delta, .001, vec_GMAB_ratchet, *contract_args)"
   ]
  },
  {
   "cell_type": "markdown",
   "metadata": {},
   "source": [
    "The output is a list of tuples. The first entry in each tuple is a tuple of $(S,r)$ shock sizes. The second entry is the name of the quantity being shocked (how many derivatives). The third entry is the statistics reported by the value function passed as an argument.\n",
    "\n",
    "Saving shock data to .csv is easy:"
   ]
  },
  {
   "cell_type": "code",
   "execution_count": 82,
   "metadata": {},
   "outputs": [
    {
     "name": "stdout",
     "output_type": "stream",
     "text": [
      "1 shocks done\n",
      "2 shocks done\n",
      "3 shocks done\n",
      "4 shocks done\n"
     ]
    }
   ],
   "source": [
    "world = t_now, t_max, dt, r, sig2, eZ, S0, S\n",
    "contract_args = t_begin, t_end, A, ec, rc, cr\n",
    "shocks = [(0,0), (.01,0), (0, .001), (.01, .001)]\n",
    "delta_shocks = shock_value(world, shocks, value_by_rep, 1000, delta, .001, vec_GMAB_ratchet, *contract_args)\n",
    "write_shock_data(world, delta_shocks, 'data1.csv')"
   ]
  },
  {
   "cell_type": "markdown",
   "metadata": {},
   "source": [
    "As is reading it from .csv:"
   ]
  },
  {
   "cell_type": "code",
   "execution_count": 83,
   "metadata": {},
   "outputs": [
    {
     "data": {
      "text/plain": [
       "[((0, 0), 'delta_', (34994.66809697904, 1184.9324064130017, 1000)),\n",
       " ((0.01, 0), 'delta_', (33876.05025065966, 1213.5130528795762, 1000)),\n",
       " ((0, 0.001), 'delta_', (33104.37481696136, 1172.8109837314514, 1000)),\n",
       " ((0.01, 0.001), 'delta_', (35559.95862487767, 1174.4882552532672, 1000))]"
      ]
     },
     "execution_count": 83,
     "metadata": {},
     "output_type": "execute_result"
    }
   ],
   "source": [
    "world, shock_data = read_shock_data('data1.csv')\n",
    "shock_data"
   ]
  },
  {
   "cell_type": "markdown",
   "metadata": {},
   "source": [
    "One major caveat about writing and reading shock data: the .csv files do not store account information. This was a major oversight on my part, and something that should be addressed if this module is to be extended for use in other projects. For the purposes of this project and its associated data, account data differs only by expense charge: expense and rider charges for GMAB without ratchet and 1% accumulation rate sum to .038; expense and rider charges for GMAB with ratchet and 1% accumulation rate sum to .045.\n",
    "\n",
    "Once shock data has been obtained, pass it to organize_data() (clever name, I know) to put it into a usable form:"
   ]
  },
  {
   "cell_type": "code",
   "execution_count": 87,
   "metadata": {},
   "outputs": [
    {
     "name": "stdout",
     "output_type": "stream",
     "text": [
      "Sr_val {(0, 0): (0, 0), (0, 1): (0, 0.001), (1, 0): (0.01, 0), (1, 1): (0.01, 0.001)} \n",
      "\n",
      "Sr_index {(0, 0): (0, 0), (0, 0.001): (0, 1), (0.01, 0): (1, 0), (0.01, 0.001): (1, 1)} \n",
      "\n",
      "tru_vals [[34994.66809698 33104.37481696]\n",
      " [33876.05025066 35559.95862488]] \n",
      "\n",
      "err [[1184.93240641 1172.81098373]\n",
      " [1213.51305288 1174.48825525]] \n",
      "\n",
      "NN [[1000. 1000.]\n",
      " [1000. 1000.]]\n"
     ]
    }
   ],
   "source": [
    "world, shock_data = read_shock_data('data1.csv')\n",
    "Sr_val, Sr_index, tru_vals, err, NN = organize_data(shock_data)\n",
    "print('Sr_val',Sr_val,'\\n')\n",
    "print('Sr_index',Sr_index,'\\n')\n",
    "print('tru_vals',tru_vals,'\\n')\n",
    "print('err',err,'\\n')\n",
    "print('NN',NN)"
   ]
  },
  {
   "cell_type": "markdown",
   "metadata": {},
   "source": [
    "- Sr_val is a dictionary that accepts the index of a 2d array and returns the value of $(S,r)$ associated to that index\n",
    "- Sr_index is a dictionary that accepts an $(S,r)$ tuple and returns its index in the 2d array\n",
    "- tru_vals is a 2d array of the shocked sample means of the quantity under consideration\n",
    "- err is a 2d array of the shocked sample standard deviations\n",
    "- NN is a 2d array of the number of MC simulations used at each location"
   ]
  },
  {
   "cell_type": "markdown",
   "metadata": {},
   "source": [
    "### Issues with gmab_model\n",
    "\n",
    "This section lists known issues with the gmab_model, from most to least important. Please read the first three subsections."
   ]
  },
  {
   "cell_type": "markdown",
   "metadata": {},
   "source": [
    "#### .csv data files do not contain account information\n",
    "\n",
    "The function write_shock_data() does not write account informationto the .csv file created to store the information. This was a tremendous oversight. Acount information is inclued in the .py files that created each of the samples, but it is a hassle to dig up that information.\n",
    "\n",
    "Fortunately, there is only one difference between the account information used in each of the samples 2-11: vec_GMAB() takes expense charge and rider charge summing to .038; vec_GMAB_ratchet() takes expense charge and rider charge summing to .045."
   ]
  },
  {
   "cell_type": "markdown",
   "metadata": {},
   "source": [
    "#### delta() is computed wrt percent change\n",
    "\n",
    "This subsection requires some explanation, but is important. At different points of develpoment, our code base computed delta as the change in valuation with respect to the dollar value of $S$ and the change in valuation with respect to a percent change in $S$. Call the former $\\Delta$ and the latter $\\tilde\\Delta$. These are different in the following way:\n",
    "$$\\tilde\\Delta = \\lim_{h\\to 0}\\frac{V(S + hS)-V(S)}{h} = S\\lim_{h\\to 0}\\frac{V(S + hS)-V(S)}{hS} = S\\Delta$$\n",
    "In particuar, the fundamental theorem of calculus fails for $\\tilde\\Delta$; in order to use any regression technique that involves partial derivatives, it is necessary to divide the results of the delta() function in gmab_model by $S$. Shocked values of $S$ are reported as percent changes $p$ from some $S_0$, so in that case it is necessary to divide by $S_0(1+p)$."
   ]
  },
  {
   "cell_type": "markdown",
   "metadata": {},
   "source": [
    "#### Inconsistencies in world state stored data\n",
    "\n",
    "During the deliberations about which of $\\Delta$ and $\\tilde\\Delta$ to report, $S$ was added as a parameter to the world state. Unfortunately, some of the data corpus was simulated with one convention, the rest with the other. None is accepted as a valid world state; in the event that the world state is missing $S$, simply write:"
   ]
  },
  {
   "cell_type": "raw",
   "metadata": {},
   "source": [
    "world = world + (None,)"
   ]
  },
  {
   "cell_type": "markdown",
   "metadata": {},
   "source": [
    "after loading the world."
   ]
  },
  {
   "cell_type": "markdown",
   "metadata": {},
   "source": [
    "#### Potential computation speed improvements\n",
    "\n",
    "In the interest of minimizing development time while facilitating ease-of-use by programmers of all levels, calling functions to compute higher order derivatives in a syntactically streamlined way was prioritized over computational efficiency. The code can be refactored to achieve performance gains of up to $O(2^n/n)$ for some tasks involving computing derivatives up to order $n$.\n",
    "\n",
    "Risk-free interest rate is not stored in the best manner for efficient $\\rho$ computation. Ideally, it should be treated the same way as stock prices: stored as a list of daily moves, then aggregated only when it has been adjusted the final time in a particular run.\n",
    "\n",
    "Extension of the program to compute $\\sigma$ should be straightforward: vectorize volatility in the same way as for stock moves, then add a sigma() function to bump/shock.\n",
    "\n",
    "A quick note about vectorization of account value arrays: my experience was that runtime complation with Numba neutralized any performance improvements from vectorizing inputs. This balance might change if Numba develops support for the numpy accumulate functions."
   ]
  }
 ],
 "metadata": {
  "kernelspec": {
   "display_name": "Python 3",
   "language": "python",
   "name": "python3"
  },
  "language_info": {
   "codemirror_mode": {
    "name": "ipython",
    "version": 3
   },
   "file_extension": ".py",
   "mimetype": "text/x-python",
   "name": "python",
   "nbconvert_exporter": "python",
   "pygments_lexer": "ipython3",
   "version": "3.7.7"
  }
 },
 "nbformat": 4,
 "nbformat_minor": 4
}
