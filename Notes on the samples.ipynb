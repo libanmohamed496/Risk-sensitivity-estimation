{
 "cells": [
  {
   "cell_type": "markdown",
   "metadata": {},
   "source": [
    "## Notes about collected samples\n",
    "There are a number of samples that were produced for use as input for our models. They fit broadly into three categories:\n",
    "- Samples 2-11, which were precisly calculated, densely spaced data points in $(S,r)$ space, each associated to one world and one contract.\n",
    "    - Samples 2-5 are in GMAB_ratchet_samples.zip, each containing 441 estimates for the values of $V$, $\\tilde\\Delta$ and $\\rho$ in the range of $\\pm 15\\%S$, $\\pm 20$ bp $r$.\n",
    "    - Samples 6-9 are in GMAB_samples.zip, each containing 441 estimates for the values of $V$, $\\tilde\\Delta$ and $\\rho$ in the range of $\\pm 15\\%S$, $\\pm 20$ bp $r$.\n",
    "    - Sample 10 is in samle10.zip, containing 441 estimates from one world state in the range of $\\pm 50\\%S$, $\\pm 50$ bp $r$.\n",
    "    - Sample 11 is in sample11.zip, containing 121 estimates in the range of $\\pm 10\\%S$, $\\pm 20$ bp $r$, each computed with 1,000,000 MC runs.\n",
    "- Neural samples, in the Archive (n).zips, which are a collection of ~800 different world states, each with 3 different shocks to $V$, $\\tilde\\Delta$ and $\\rho$.\n",
    "- Contract samples, in portfolio_samples.zip, which is a collection of data from one world state where contract parameters were varied. This data is formatted differently than the other data. See Jayden's work on interpolation in contract space to see how it's handled there.\n",
    "\n",
    "The typical way to manage these samples is to load the world and shock data with read_shock_data(), then format it with organize_data(). See the gmab_model notes (near bottom) for templates.\n",
    "\n",
    "Most (all?) of the samples in 2-11 have eZ but are missing S; if you run into this issue, simply call\n",
    "\n",
    "    world = world + (None,)\n",
    "after loading the world state."
   ]
  }
 ],
 "metadata": {
  "kernelspec": {
   "display_name": "Python 3",
   "language": "python",
   "name": "python3"
  },
  "language_info": {
   "codemirror_mode": {
    "name": "ipython",
    "version": 3
   },
   "file_extension": ".py",
   "mimetype": "text/x-python",
   "name": "python",
   "nbconvert_exporter": "python",
   "pygments_lexer": "ipython3",
   "version": "3.7.7"
  }
 },
 "nbformat": 4,
 "nbformat_minor": 4
}
